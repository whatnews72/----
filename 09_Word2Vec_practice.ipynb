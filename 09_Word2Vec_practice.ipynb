{
  "cells": [
    {
      "cell_type": "markdown",
      "metadata": {
        "id": "view-in-github",
        "colab_type": "text"
      },
      "source": [
        "<a href=\"https://colab.research.google.com/github/whatnews72/----/blob/master/09_Word2Vec_practice.ipynb\" target=\"_parent\"><img src=\"https://colab.research.google.com/assets/colab-badge.svg\" alt=\"Open In Colab\"/></a>"
      ]
    },
    {
      "cell_type": "markdown",
      "metadata": {
        "id": "ZGHGX0CcMYYx"
      },
      "source": [
        "<a href=\"https://colab.research.google.com/github/minsuk-heo/tf2/blob/master/jupyter_notebooks/09.Word2Vec.ipynb\" target=\"_parent\"><img src=\"https://colab.research.google.com/assets/colab-badge.svg\" alt=\"Open In Colab\"/></a>"
      ]
    },
    {
      "cell_type": "code",
      "execution_count": 2,
      "metadata": {
        "id": "LYg6j8WNMYYz"
      },
      "outputs": [],
      "source": [
        "import tensorflow as tf\n",
        "import tensorflow_hub as hub\n",
        "import numpy as np"
      ]
    },
    {
      "cell_type": "code",
      "execution_count": 3,
      "metadata": {
        "id": "_CbTlNHKMYY0"
      },
      "outputs": [],
      "source": [
        "# Load Pretrained Word2Vec\n",
        "embed = hub.load(\"https://tfhub.dev/google/Wiki-words-250-with-normalization/2\")"
      ]
    },
    {
      "cell_type": "code",
      "execution_count": 4,
      "metadata": {
        "id": "qw4WARmHMYY1"
      },
      "outputs": [],
      "source": [
        "words = [\"love\", \"like\", \"candy\", \"sweet\"]\n",
        "# Compute embeddings.\n",
        "embeddings = embed(words)"
      ]
    },
    {
      "cell_type": "code",
      "execution_count": 5,
      "metadata": {
        "id": "o8gdz7jjMYY1",
        "outputId": "d5e30a38-0660-4fdf-d5ad-ac5a1ea7beab",
        "colab": {
          "base_uri": "https://localhost:8080/"
        }
      },
      "outputs": [
        {
          "output_type": "stream",
          "name": "stdout",
          "text": [
            "(4, 250)\n"
          ]
        }
      ],
      "source": [
        "print(embeddings.shape)"
      ]
    },
    {
      "cell_type": "code",
      "execution_count": 6,
      "metadata": {
        "id": "AHCnzWs6MYY1",
        "outputId": "c1eb4cd4-8e5d-458f-a1ff-9005a80b0339",
        "colab": {
          "base_uri": "https://localhost:8080/"
        }
      },
      "outputs": [
        {
          "output_type": "stream",
          "name": "stdout",
          "text": [
            "tf.Tensor(\n",
            "[-0.03303534 -0.09747706  0.04471857 -0.02752079 -0.07597412  0.03347615\n",
            " -0.01335788 -0.00311014 -0.00372324 -0.05820915  0.02837449  0.08945033\n",
            "  0.06783599  0.06200846 -0.05392867 -0.14655374 -0.00326904  0.05813511\n",
            " -0.0488587  -0.01667441  0.10516734  0.01310485 -0.00860913  0.04050194\n",
            " -0.06484944 -0.03773529  0.04581574  0.01471178 -0.04558207  0.04238031\n",
            "  0.00309342  0.03453519  0.06853242 -0.07402938 -0.01671335 -0.02978269\n",
            " -0.01313565  0.0709921   0.01734398  0.00472038  0.04499672 -0.21624205\n",
            "  0.01259875  0.02108192  0.01784436 -0.05302155 -0.08076298  0.11256347\n",
            " -0.01917751 -0.11691377  0.01308519 -0.06589338 -0.04359467 -0.00350593\n",
            " -0.02120865  0.10865071  0.06296594  0.03164295  0.08851792 -0.0319136\n",
            " -0.04501863 -0.03700015 -0.06790704  0.10546441  0.01296587  0.05636951\n",
            "  0.0234233   0.01297955  0.06890511  0.05002031  0.05637478 -0.05329621\n",
            "  0.04272304 -0.01542398  0.07288036  0.00722782 -0.03461286  0.02775684\n",
            "  0.0280036  -0.00390586 -0.02332086  0.013495   -0.04079294  0.0115721\n",
            " -0.00631082  0.0152759  -0.09141902 -0.13820633 -0.07841925  0.02233089\n",
            " -0.00814515 -0.02057987 -0.11086132  0.04210374  0.04836465  0.0875401\n",
            " -0.10129863 -0.00776732 -0.01640477 -0.06318273  0.06806225  0.03429309\n",
            " -0.00183019  0.02727957  0.02093347 -0.00132138 -0.07276788  0.02369454\n",
            " -0.01496351  0.02769322 -0.00454477  0.03956322 -0.01161208  0.03650494\n",
            " -0.10423206 -0.0320727   0.0399762  -0.2108015   0.03681671  0.0673762\n",
            " -0.00116718  0.00564754  0.04330483 -0.05727104  0.15629612 -0.06778105\n",
            " -0.07766435  0.13586289 -0.03393713  0.04615023  0.00071223 -0.00293502\n",
            " -0.09277464 -0.0403108  -0.0904665   0.01984695 -0.02134241 -0.03494497\n",
            " -0.08597406 -0.16535273  0.0263732  -0.01575049 -0.05015064 -0.0456583\n",
            "  0.06587657 -0.08054485 -0.15917632  0.0655053  -0.01600087 -0.07970869\n",
            "  0.07180706 -0.08674482 -0.00909162 -0.02931868 -0.05370381  0.11587197\n",
            "  0.15048212 -0.07807551  0.04626196 -0.01909511 -0.00641007  0.0323904\n",
            " -0.08866173 -0.10491147  0.02141456  0.04359065 -0.01228805  0.06709932\n",
            "  0.00866817  0.00035865 -0.01475465 -0.01397888 -0.05864844  0.03561704\n",
            " -0.01329018 -0.04831829  0.03433793  0.011774    0.05666971  0.06499742\n",
            "  0.00962122  0.04348819  0.11303418 -0.06859981  0.16801435 -0.02387832\n",
            " -0.05813872  0.05405679 -0.15163048 -0.03833419 -0.10809126 -0.09573696\n",
            "  0.00941655 -0.08266903 -0.05732436 -0.06442997 -0.00799001 -0.10144527\n",
            "  0.02774546 -0.08313224 -0.03201509 -0.03267814  0.03447625 -0.08576291\n",
            " -0.03299571 -0.05729002 -0.02046518 -0.01631005  0.07109455  0.00823583\n",
            " -0.00132525  0.02612081  0.03838414 -0.11202055  0.01380548  0.03385017\n",
            " -0.05028565  0.09751298  0.02449833  0.04111331  0.0289451   0.05465077\n",
            "  0.033326    0.00928546  0.11140384  0.08502001  0.03388523 -0.01104161\n",
            " -0.01592121  0.0485536  -0.0638141  -0.06227927 -0.05179352 -0.04943755\n",
            " -0.01702155 -0.04146611 -0.0838102  -0.00611148 -0.07258077  0.09281392\n",
            "  0.05119123  0.08880886 -0.03147073  0.13527678 -0.01636049 -0.09381191\n",
            " -0.03598375 -0.00558905 -0.00747068  0.03533127], shape=(250,), dtype=float32)\n"
          ]
        }
      ],
      "source": [
        "print(embeddings[0])"
      ]
    },
    {
      "cell_type": "code",
      "execution_count": 7,
      "metadata": {
        "id": "puduYxjgMYY2",
        "outputId": "835f1213-6b13-45ab-804a-dcf2896df35a",
        "colab": {
          "base_uri": "https://localhost:8080/"
        }
      },
      "outputs": [
        {
          "output_type": "stream",
          "name": "stdout",
          "text": [
            "( love , love ) 1.0\n",
            "( love , like ) 0.24091528\n",
            "( love , candy ) 0.21820006\n",
            "( love , sweet ) 0.40287575\n",
            "( like , like ) 1.0\n",
            "( like , candy ) 0.2680609\n",
            "( like , sweet ) 0.38982743\n",
            "( candy , candy ) 1.0\n",
            "( candy , sweet ) 0.58338785\n",
            "( sweet , sweet ) 1.0\n"
          ]
        }
      ],
      "source": [
        "# Compute similarity matrix. Higher score indicates greater similarity.\n",
        "for i in range(len(words)):\n",
        "    for j in range(i,len(words)):\n",
        "        print(\"(\",words[i], \",\", words[j],\")\",np.inner(embeddings[i], embeddings[j]))"
      ]
    },
    {
      "cell_type": "code",
      "execution_count": null,
      "metadata": {
        "id": "11OTydFcMYY2"
      },
      "outputs": [],
      "source": []
    }
  ],
  "metadata": {
    "kernelspec": {
      "display_name": "Python 3",
      "language": "python",
      "name": "python3"
    },
    "language_info": {
      "codemirror_mode": {
        "name": "ipython",
        "version": 3
      },
      "file_extension": ".py",
      "mimetype": "text/x-python",
      "name": "python",
      "nbconvert_exporter": "python",
      "pygments_lexer": "ipython3",
      "version": "3.7.5"
    },
    "colab": {
      "provenance": [],
      "include_colab_link": true
    }
  },
  "nbformat": 4,
  "nbformat_minor": 0
}