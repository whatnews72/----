{
  "nbformat": 4,
  "nbformat_minor": 0,
  "metadata": {
    "colab": {
      "provenance": [],
      "gpuType": "T4",
      "authorship_tag": "ABX9TyPLoWgKrsvK3bdGD01YDLhC",
      "include_colab_link": true
    },
    "kernelspec": {
      "name": "python3",
      "display_name": "Python 3"
    },
    "language_info": {
      "name": "python"
    },
    "accelerator": "GPU"
  },
  "cells": [
    {
      "cell_type": "markdown",
      "metadata": {
        "id": "view-in-github",
        "colab_type": "text"
      },
      "source": [
        "<a href=\"https://colab.research.google.com/github/whatnews72/----/blob/master/6%EC%A3%BC%EC%B0%A8_%EC%96%B4%ED%85%90%EC%85%98_%EB%A9%94%EC%BB%A4%EB%8B%88%EC%A6%98%EC%9D%98_%EC%9D%B4%ED%95%B4_%EC%8B%A4%EC%8A%B5_bahdanau_attention.ipynb\" target=\"_parent\"><img src=\"https://colab.research.google.com/assets/colab-badge.svg\" alt=\"Open In Colab\"/></a>"
      ]
    },
    {
      "cell_type": "code",
      "execution_count": 1,
      "metadata": {
        "id": "rXrSPlHBVmX6"
      },
      "outputs": [],
      "source": [
        "import numpy as np\n",
        "import tensorflow as tf\n",
        "import tensorflow.keras.backend as K"
      ]
    },
    {
      "cell_type": "markdown",
      "source": [
        "#1. bahdanau attention 만들어보기\n"
      ],
      "metadata": {
        "id": "bMuU8S2uWS4V"
      }
    },
    {
      "cell_type": "markdown",
      "source": [
        "# 먼저 numpy로 연산 구현"
      ],
      "metadata": {
        "id": "W0mRpBflWcWZ"
      }
    },
    {
      "cell_type": "code",
      "source": [
        "# hiddne state 값 준비\n",
        "np.random.seed(0)\n",
        "s = np.random.randn(16)  # 압축 차원 길이=16\n",
        "h = np.random.randn(8, 16)  # encoder 시간 길이=8, 압축 차원 길이=16"
      ],
      "metadata": {
        "id": "I-DDc2GNWiap"
      },
      "execution_count": 2,
      "outputs": []
    },
    {
      "cell_type": "code",
      "source": [
        "# 가중치 생성\n",
        "wa = np.random.randn(16, 16)\n",
        "ua = np.random.randn(16, 16)\n",
        "va = np.random.randn(1, 16)"
      ],
      "metadata": {
        "id": "Sgzh1yNXXhBH"
      },
      "execution_count": 3,
      "outputs": []
    },
    {
      "cell_type": "code",
      "source": [
        "# 계산1 - h와 s 각각을 가중치 곱하여 더하기\n",
        "np.dot(h, ua.transpose()) + np.dot(s, wa.transpose())\n",
        "print((np.dot(h, ua.transpose())+ np.dot(s, wa.transpose())))"
      ],
      "metadata": {
        "colab": {
          "base_uri": "https://localhost:8080/"
        },
        "id": "t4JaRrrqYCki",
        "outputId": "7aa23147-1dbf-4ff2-c2f0-4d61faf794b1"
      },
      "execution_count": 4,
      "outputs": [
        {
          "output_type": "stream",
          "name": "stdout",
          "text": [
            "[[  7.61717987  -7.18938783  -2.52083773  -1.29414899   7.93474544\n",
            "   -0.1271671   -0.73063291  -7.71241991  -6.06493934   1.5649772\n",
            "    4.78740838 -11.85840064  -5.94269757  -2.71069843  -4.07306779\n",
            "    1.47724267]\n",
            " [  7.13079868  -7.41483643  -2.73950687   9.29952666  -3.98348742\n",
            "  -10.79813258   2.15539554   4.64091217   9.74361292  11.13991559\n",
            "  -11.9095806   -3.51880155   6.65654036  -6.01739336   2.03975548\n",
            "  -13.71637056]\n",
            " [  1.90285712  -0.71423676  -3.88977638   5.94233621   0.2609294\n",
            "   -2.03654225  -0.36482031  -4.26071705   6.52987709   7.59356316\n",
            "   -5.72573936  -3.17054463   7.38326078  -2.85673656  -4.21502066\n",
            "   -2.22219225]\n",
            " [  3.73116511  -3.46729739  -1.81626053   8.7347636    3.06134644\n",
            "   -3.47390509   2.18275343  -2.14665946   5.23029824   3.58260949\n",
            "   -2.04728874  -3.79624096   0.26560409   0.09563467  -1.69669981\n",
            "   -3.81847252]\n",
            " [  2.90031077  -8.62192674  -3.86991289   0.42693164   1.30002176\n",
            "   -0.81866129   1.84453331  -3.45712528   5.99108412   9.01609373\n",
            "   -3.52665868 -16.6998467   -0.7532994   -2.54363943  -6.06471813\n",
            "    1.06713994]\n",
            " [ -2.29219173   2.16438602  -2.65740414  -1.69337748   5.27319434\n",
            "   13.86976231   1.00211262  -5.45268662   8.0191497   -4.04544385\n",
            "   -0.46951179 -13.86854562  -1.90031271  -2.76360492  -3.98623235\n",
            "    5.04152666]\n",
            " [  2.18868437  -6.89068168  -2.93904129  10.30493858   5.62733765\n",
            "   -1.10986419   0.57855359  -3.58473283  10.96185747   6.25332872\n",
            "   -9.5746582   -7.44685837  -3.91455025  -6.29336735  -0.70626264\n",
            "   -4.8344794 ]\n",
            " [  1.85645413   2.26863542  -4.87888764   5.40248745   3.91601106\n",
            "   -2.29464775   2.55423866  -4.52039075   3.97752693   2.95330446\n",
            "    0.7338792   -6.27783622   1.1451586   -1.49961547  -0.52635441\n",
            "   -0.08638303]]\n"
          ]
        }
      ]
    },
    {
      "cell_type": "code",
      "source": [
        "#계산2 - h와 s 각각을 가중치 곱하여 더한 결과에 tanh적용\n",
        "np.tanh(np.dot(h, ua.transpose()) + np.dot(s, wa.transpose()))"
      ],
      "metadata": {
        "colab": {
          "base_uri": "https://localhost:8080/"
        },
        "id": "4yhBYiPuZLKy",
        "outputId": "f517eb03-e71b-4516-9bd6-ab8dcfb491ad"
      },
      "execution_count": 5,
      "outputs": [
        {
          "output_type": "execute_result",
          "data": {
            "text/plain": [
              "array([[ 0.99999952, -0.99999886, -0.98715718, -0.8602093 ,  0.99999974,\n",
              "        -0.12648601, -0.6234524 , -0.9999996 , -0.99998921,  0.91622313,\n",
              "         0.9998611 , -1.        , -0.99998622, -0.99119698, -0.99942046,\n",
              "         0.9009501 ],\n",
              "       [ 0.99999872, -0.99999927, -0.9916878 ,  0.99999998, -0.99930679,\n",
              "        -1.        ,  0.97350972,  0.99981382,  0.99999999,  1.        ,\n",
              "        -1.        , -0.99824508,  0.99999669, -0.99998813,  0.96673129,\n",
              "        -1.        ],\n",
              "       [ 0.95648139, -0.61332672, -0.99916395,  0.99998621,  0.25516462,\n",
              "        -0.96652039, -0.34945281, -0.99960177,  0.99999574,  0.99999949,\n",
              "        -0.99997873, -0.99648144,  0.99999923, -0.99341935, -0.99956367,\n",
              "        -0.97678399],\n",
              "       [ 0.99885203, -0.99805486, -0.94846425,  0.99999995,  0.99562451,\n",
              "        -0.99808037,  0.97490252, -0.97304911,  0.99994272,  0.99845517,\n",
              "        -0.96722063, -0.99899205,  0.25952971,  0.09534418, -0.93499524,\n",
              "        -0.99903587],\n",
              "       [ 0.99396691, -0.99999994, -0.99913008,  0.40275385,  0.86172876,\n",
              "        -0.67434058,  0.95122842, -0.99801492,  0.99998749,  0.99999997,\n",
              "        -0.99827242, -1.        , -0.6371132 , -0.98772619, -0.9999892 ,\n",
              "         0.78838126],\n",
              "       [-0.9797863 ,  0.97397564, -0.9902117 , -0.93457604,  0.99994742,\n",
              "         1.        ,  0.76247997, -0.99996328,  0.99999978, -0.99938755,\n",
              "        -0.43780477, -1.        , -0.95626422, -0.99207737, -0.99931058,\n",
              "         0.99991644],\n",
              "       [ 0.97519479, -0.99999793, -0.99441534,  1.        ,  0.99997411,\n",
              "        -0.80401438,  0.52161335, -0.99846172,  1.        ,  0.9999926 ,\n",
              "        -0.99999999, -0.99999932, -0.99920435, -0.99999317, -0.60832788,\n",
              "        -0.99987358],\n",
              "       [ 0.95235009,  0.97882151, -0.99988432,  0.9999594 ,  0.99920667,\n",
              "        -0.97988435,  0.98798209, -0.99976307,  0.99929848,  0.99457197,\n",
              "         0.62543287, -0.99999295,  0.81614387, -0.90507874, -0.48258945,\n",
              "        -0.08616881]])"
            ]
          },
          "metadata": {},
          "execution_count": 5
        }
      ]
    },
    {
      "cell_type": "code",
      "source": [
        "# 계산 3 - tanh 결과에 다중치 va 곱하기\n",
        "np.dot(np.tanh(np.dot(h, ua.transpose()) + np.dot(s, wa.transpose())), va.transpose())"
      ],
      "metadata": {
        "colab": {
          "base_uri": "https://localhost:8080/"
        },
        "id": "GYHFI2W7Zouv",
        "outputId": "b06a3561-84c5-4b84-9607-c292b5dd442a"
      },
      "execution_count": 6,
      "outputs": [
        {
          "output_type": "execute_result",
          "data": {
            "text/plain": [
              "array([[ 0.50622235],\n",
              "       [ 0.23123622],\n",
              "       [-1.24593044],\n",
              "       [ 1.08933605],\n",
              "       [-0.56696991],\n",
              "       [-2.58057185],\n",
              "       [ 2.58568857],\n",
              "       [-5.01320722]])"
            ]
          },
          "metadata": {},
          "execution_count": 6
        }
      ]
    },
    {
      "cell_type": "code",
      "source": [
        "# softmax 정의\n",
        "def softmax(x):\n",
        "    return np.exp(x)/sum(np.exp(x))"
      ],
      "metadata": {
        "id": "mYqz5VMNakCU"
      },
      "execution_count": 7,
      "outputs": []
    },
    {
      "cell_type": "code",
      "source": [
        "# tanh에 va를 곱한 결과에 soxtmax를 적용하여 attention score 생성\n",
        "softmax(np.dot(np.tanh(np.dot(h, ua.transpose()) + np.dot(s, wa.transpose())), va.transpose()))"
      ],
      "metadata": {
        "colab": {
          "base_uri": "https://localhost:8080/"
        },
        "id": "3SaxuPtBbH7o",
        "outputId": "8d26f617-772d-4ee6-db0f-29b8dde2d7d0"
      },
      "execution_count": 8,
      "outputs": [
        {
          "output_type": "execute_result",
          "data": {
            "text/plain": [
              "array([[8.25330375e-02],\n",
              "       [6.26906641e-02],\n",
              "       [1.43112490e-02],\n",
              "       [1.47866874e-01],\n",
              "       [2.82193074e-02],\n",
              "       [3.76747293e-03],\n",
              "       [6.60280592e-01],\n",
              "       [3.30803444e-04]])"
            ]
          },
          "metadata": {},
          "execution_count": 8
        }
      ]
    },
    {
      "cell_type": "code",
      "source": [
        "# attention score와 encoder hidden state 가중합\n",
        "np.sum(softmax(np.dot(np.tanh(np.dot(h, ua.transpose()) + np.dot(s, wa.transpose())), va.transpose()))*h, axis=0)"
      ],
      "metadata": {
        "colab": {
          "base_uri": "https://localhost:8080/"
        },
        "id": "2advlJeubg_i",
        "outputId": "3f520a3e-29fb-4d46-a111-8c95a07695a0"
      },
      "execution_count": 9,
      "outputs": [
        {
          "output_type": "execute_result",
          "data": {
            "text/plain": [
              "array([-0.53047481,  1.08989808, -0.4134333 ,  0.50146525,  0.39927329,\n",
              "        0.06619121,  0.58819996,  0.55271133,  0.50512843, -1.07621964,\n",
              "        0.13134064,  0.90750036, -0.48981229, -0.06244843, -0.39363165,\n",
              "        1.30814755])"
            ]
          },
          "metadata": {},
          "execution_count": 9
        }
      ]
    },
    {
      "cell_type": "markdown",
      "source": [
        "# 같은 연산을 Keras로 구현\n"
      ],
      "metadata": {
        "id": "mZgIvz9LcV_B"
      }
    },
    {
      "cell_type": "code",
      "source": [
        "# 위에서 생성한 값들을 tensor로 변환\n",
        "h = tf.convert_to_tensor(h)\n",
        "s = tf.convert_to_tensor(s.reshape(1, -1))\n",
        "wa = tf.convert_to_tensor(wa)\n",
        "ua = tf.convert_to_tensor(ua)\n",
        "va = tf.convert_to_tensor(va)"
      ],
      "metadata": {
        "id": "-YQYpNs5cbbH"
      },
      "execution_count": 10,
      "outputs": []
    },
    {
      "cell_type": "code",
      "source": [
        " # tanh - va 곱까지 구현\n",
        "e = K.dot(K.tanh(K.dot(h, K.transpose(ua)) + K.dot(s, K.transpose(wa))), K.transpose(va))\n",
        "print(e)"
      ],
      "metadata": {
        "colab": {
          "base_uri": "https://localhost:8080/"
        },
        "id": "Bs1RrLY4c4Sr",
        "outputId": "5c87e538-1edc-4b16-ebd0-8cc2ccaed56c"
      },
      "execution_count": 11,
      "outputs": [
        {
          "output_type": "stream",
          "name": "stdout",
          "text": [
            "tf.Tensor(\n",
            "[[ 0.50622235]\n",
            " [ 0.23123622]\n",
            " [-1.24593044]\n",
            " [ 1.08933605]\n",
            " [-0.56696991]\n",
            " [-2.58057185]\n",
            " [ 2.58568857]\n",
            " [-5.01320722]], shape=(8, 1), dtype=float64)\n"
          ]
        }
      ]
    },
    {
      "cell_type": "code",
      "source": [
        " # softmax 적용한 attention 가중치 생성 구현\n",
        " a = K.softmax(e, axis=0)\n",
        " print(a)\n",
        " print(K.sum(a, axis=0))"
      ],
      "metadata": {
        "colab": {
          "base_uri": "https://localhost:8080/"
        },
        "id": "PDEPQQWCdzBR",
        "outputId": "02735127-3e74-4dca-d49f-e7ae3c782b90"
      },
      "execution_count": 12,
      "outputs": [
        {
          "output_type": "stream",
          "name": "stdout",
          "text": [
            "tf.Tensor(\n",
            "[[8.25330375e-02]\n",
            " [6.26906641e-02]\n",
            " [1.43112490e-02]\n",
            " [1.47866874e-01]\n",
            " [2.82193074e-02]\n",
            " [3.76747293e-03]\n",
            " [6.60280592e-01]\n",
            " [3.30803444e-04]], shape=(8, 1), dtype=float64)\n",
            "tf.Tensor([1.], shape=(1,), dtype=float64)\n"
          ]
        }
      ]
    },
    {
      "cell_type": "code",
      "source": [
        "# encoder hidden state 가중합 구현\n",
        "c = K.sum(a*h, axis=0)\n",
        "print(c)"
      ],
      "metadata": {
        "colab": {
          "base_uri": "https://localhost:8080/"
        },
        "id": "wmUeQJizeVPf",
        "outputId": "6f053f84-6a25-480a-ca95-0ee640dcfd70"
      },
      "execution_count": 13,
      "outputs": [
        {
          "output_type": "stream",
          "name": "stdout",
          "text": [
            "tf.Tensor(\n",
            "[-0.53047481  1.08989808 -0.4134333   0.50146525  0.39927329  0.06619121\n",
            "  0.58819996  0.55271133  0.50512843 -1.07621964  0.13134064  0.90750036\n",
            " -0.48981229 -0.06244843 -0.39363165  1.30814755], shape=(16,), dtype=float64)\n"
          ]
        }
      ]
    }
  ]
}