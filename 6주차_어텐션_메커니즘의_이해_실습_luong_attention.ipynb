{
  "nbformat": 4,
  "nbformat_minor": 0,
  "metadata": {
    "colab": {
      "provenance": [],
      "gpuType": "T4",
      "authorship_tag": "ABX9TyN8FkbTpQnJ0Xgr39GPEE/X",
      "include_colab_link": true
    },
    "kernelspec": {
      "name": "python3",
      "display_name": "Python 3"
    },
    "language_info": {
      "name": "python"
    },
    "accelerator": "GPU"
  },
  "cells": [
    {
      "cell_type": "markdown",
      "metadata": {
        "id": "view-in-github",
        "colab_type": "text"
      },
      "source": [
        "<a href=\"https://colab.research.google.com/github/whatnews72/----/blob/master/6%EC%A3%BC%EC%B0%A8_%EC%96%B4%ED%85%90%EC%85%98_%EB%A9%94%EC%BB%A4%EB%8B%88%EC%A6%98%EC%9D%98_%EC%9D%B4%ED%95%B4_%EC%8B%A4%EC%8A%B5_luong_attention.ipynb\" target=\"_parent\"><img src=\"https://colab.research.google.com/assets/colab-badge.svg\" alt=\"Open In Colab\"/></a>"
      ]
    },
    {
      "cell_type": "code",
      "execution_count": null,
      "metadata": {
        "id": "xeFC28dKf1AS"
      },
      "outputs": [],
      "source": []
    },
    {
      "cell_type": "markdown",
      "source": [
        "# 먼저 numpy로 연산 구현"
      ],
      "metadata": {
        "id": "OHlMsNS2gQad"
      }
    },
    {
      "cell_type": "code",
      "source": [
        "import numpy as np\n",
        "import tensorflow as tf\n",
        "import tensorflow.keras.backend as K"
      ],
      "metadata": {
        "id": "P6mafvdSgzVd"
      },
      "execution_count": 1,
      "outputs": []
    },
    {
      "cell_type": "code",
      "source": [
        "# hiddne state 값 줁비\n",
        "np.random.seed(0)\n",
        "s = np.random.randn(16)\n",
        "h = np.random.randn(16)\n"
      ],
      "metadata": {
        "id": "futaxBJngVR-"
      },
      "execution_count": 2,
      "outputs": []
    }
  ]
}